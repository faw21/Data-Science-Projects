{
 "cells": [
  {
   "cell_type": "markdown",
   "metadata": {},
   "source": [
    "# CS 1656 – Introduction to Data Science (Fall 2019) \n",
    "\n",
    "## Instructor: Alexandros Labrinidis / Teaching Assistant: Xiaoting Li\n",
    "\n",
    "## Term Project \n",
    "\n",
    "**Released: November 20, 2019**\n",
    "\n",
    "**Due: December 10, 2019**"
   ]
  },
  {
   "cell_type": "code",
   "execution_count": 240,
   "metadata": {},
   "outputs": [],
   "source": [
    "# Your name: Fangzheng Wu\n",
    "# Your github ID: faw21\n",
    "# Your pitt username: faw21"
   ]
  },
  {
   "cell_type": "markdown",
   "metadata": {},
   "source": [
    "### Goal\n",
    "The goal of this project is to expose you with a real data science problem, looking at the end-to-end pipeline. \n",
    "\n",
    "### What to do \n",
    "You are asked to write a Python Jupyter notebook, called `bikeviz.ipynb` that will:\n",
    "* [Task 1] access historical bike rental data for 2019 from HealthyRidePGH and summarize the rental data  \n",
    "* [Task 2] create graphs to show the popularity of the different rental stations, given filter conditions  \n",
    "* [Task 3] create graphs to show the rebalancing issue  \n",
    "* [Task 4] cluster the data to group similar stations together, using a variety of clustering functions and visualize the results of the clustering.  \n",
    "\n",
    "### Jupyter Notebook Rules\n",
    "This skeleton is provided for you to complete the project. Please add your code in the code cells below each Task. Feel free to add cells as needed. Do not remove existing cells."
   ]
  },
  {
   "cell_type": "code",
   "execution_count": 241,
   "metadata": {},
   "outputs": [],
   "source": [
    "import matplotlib.pyplot as plt\n",
    "import pandas as pd\n",
    "import re\n",
    "from sklearn import cluster\n",
    "\n",
    "# Feel free to add here any other libraries as specified in the project description"
   ]
  },
  {
   "cell_type": "markdown",
   "metadata": {},
   "source": [
    "For the sake of interactive display in Jupyter, we will enable matplotlib inline."
   ]
  },
  {
   "cell_type": "code",
   "execution_count": 242,
   "metadata": {},
   "outputs": [],
   "source": [
    "%matplotlib inline"
   ]
  },
  {
   "cell_type": "markdown",
   "metadata": {},
   "source": [
    "### [Task 0] Warming Up\n",
    "Task 0 is for testing. It is used to ensure that this Jupyter Notebook skeleton works on both your machines and our machine. Please run the following code to see if you can see a line plot. The line plot is the basic plot that we have seen in Recitation2. "
   ]
  },
  {
   "cell_type": "code",
   "execution_count": 243,
   "metadata": {},
   "outputs": [
    {
     "data": {
      "image/png": "[encoded data removed]",
      "text/plain": [
       "<Figure size 432x288 with 1 Axes>"
      ]
     },
     "metadata": {
      "needs_background": "light"
     },
     "output_type": "display_data"
    }
   ],
   "source": [
    "import datetime\n",
    "from pandas.plotting import register_matplotlib_converters\n",
    "register_matplotlib_converters()\n",
    "df = pd.read_csv('http://data.cs1656.org/KPIT_Aug17.csv',\\\n",
    "                       sep=',', engine='python', parse_dates=['EST'])\n",
    "p1 = plt.plot(df['EST'],df['MeanDew PointF'])\n",
    "p2 = plt.plot(df['EST'],df['Mean TemperatureF'])\n",
    "plt.legend([p1[0],p2[0]], ['Mean Dew Point', 'Mean Temperature'])\n",
    "\n",
    "plt.show()"
   ]
  },
  {
   "cell_type": "markdown",
   "metadata": {},
   "source": [
    "--- \n",
    "Add your code below this line\n",
    "\n",
    "---\n",
    "### Task 1"
   ]
  },
  {
   "cell_type": "markdown",
   "metadata": {},
   "source": [
    "In this task you will need to access historical bike rental data for 2019 from HealthyRidePGH and summarize the rental data."
   ]
  },
  {
   "cell_type": "markdown",
   "metadata": {},
   "source": [
    "### Task 1.1"
   ]
  },
  {
   "cell_type": "code",
   "execution_count": 244,
   "metadata": {},
   "outputs": [],
   "source": [
    "q1 = pd.read_csv('HealthyRideRentals2019-Q1.csv', parse_dates=['Starttime', 'Stoptime'])\n",
    "q2 = pd.read_csv('HealthyRideRentals2019-Q2.csv', parse_dates=['Starttime', 'Stoptime'])\n",
    "q3 = pd.read_csv('HealthyRideRentals2019-Q3.csv', parse_dates=['Starttime', 'Stoptime'])"
   ]
  },
  {
   "cell_type": "code",
   "execution_count": 245,
   "metadata": {},
   "outputs": [],
   "source": [
    "data = q1.append(q2, ignore_index = True)\n",
    "data = data.append(q3, ignore_index = True)"
   ]
  },
  {
   "cell_type": "code",
   "execution_count": 246,
   "metadata": {},
   "outputs": [],
   "source": [
    "data.sort_values(by = ['Bikeid', 'Trip id'], inplace = True)"
   ]
  },
  {
   "cell_type": "code",
   "execution_count": 247,
   "metadata": {},
   "outputs": [],
   "source": [
    "CNT_info = {}"
   ]
  },
  {
   "cell_type": "code",
   "execution_count": 248,
   "metadata": {},
   "outputs": [],
   "source": [
    "for series in data.itertuples():\n",
    "    #calculate fromCNT\n",
    "    if str(series[6])!='nan':\n",
    "        stationid = int(series[6])\n",
    "        time = re.findall('^\\d{4}-\\d{2}-\\d{2}', str(series[2]))[0]\n",
    "        station_date_pair = (stationid, time)\n",
    "        if station_date_pair not in CNT_info:\n",
    "            CNT_info[station_date_pair] = [0,0,0]\n",
    "        \n",
    "        fromCNT = CNT_info[station_date_pair][0]\n",
    "        CNT_info[station_date_pair][0] = fromCNT + 1\n",
    "     \n",
    "    #calculate toCNT\n",
    "    if str(series[8])!='nan':\n",
    "        stationid = int(series[8])\n",
    "        time = re.findall('^\\d{4}-\\d{2}-\\d{2}', str(series[3]))[0]\n",
    "        station_date_pair = (stationid, time)\n",
    "        if station_date_pair not in CNT_info:\n",
    "            CNT_info[station_date_pair] = [0,0,0]\n",
    "        \n",
    "        toCNT = CNT_info[station_date_pair][1]\n",
    "        CNT_info[station_date_pair][1] = toCNT + 1"
   ]
  },
  {
   "cell_type": "code",
   "execution_count": 249,
   "metadata": {},
   "outputs": [],
   "source": [
    "#calculate rebalCNT\n",
    "for i in range(0,len(data)-1):\n",
    "    if data.iloc[i]['Bikeid'] == data.iloc[i+1]['Bikeid']:\n",
    "        if str(data.iloc[i+1]['From station id'])!='nan' and str(data.iloc[i]['To station id'])!='nan':\n",
    "            if data.iloc[i]['To station id'] != data.iloc[i+1]['From station id']:\n",
    "                stationid = int(data.iloc[i+1]['From station id'])\n",
    "                time = re.findall('^\\d{4}-\\d{2}-\\d{2}', str(data.iloc[i+1]['Starttime']))[0]\n",
    "                station_date_pair = (stationid, time)\n",
    "                rebalCNT = CNT_info[station_date_pair][2]\n",
    "                CNT_info[station_date_pair][2] = rebalCNT + 1"
   ]
  },
  {
   "cell_type": "code",
   "execution_count": 250,
   "metadata": {},
   "outputs": [
    {
     "data": {
      "text/html": [
       "<div>\n",
       "<style scoped>\n",
       "    .dataframe tbody tr th:only-of-type {\n",
       "        vertical-align: middle;\n",
       "    }\n",
       "\n",
       "    .dataframe tbody tr th {\n",
       "        vertical-align: top;\n",
       "    }\n",
       "\n",
       "    .dataframe thead th {\n",
       "        text-align: right;\n",
       "    }\n",
       "</style>\n",
       "<table border=\"1\" class=\"dataframe\">\n",
       "  <thead>\n",
       "    <tr style=\"text-align: right;\">\n",
       "      <th></th>\n",
       "      <th>Station id</th>\n",
       "      <th>Date</th>\n",
       "      <th>fromCNT</th>\n",
       "      <th>toCNT</th>\n",
       "      <th>rebalCNT</th>\n",
       "    </tr>\n",
       "  </thead>\n",
       "  <tbody>\n",
       "    <tr>\n",
       "      <td>0</td>\n",
       "      <td>666</td>\n",
       "      <td>2019-07-20</td>\n",
       "      <td>1</td>\n",
       "      <td>0</td>\n",
       "      <td>1</td>\n",
       "    </tr>\n",
       "    <tr>\n",
       "      <td>1</td>\n",
       "      <td>666</td>\n",
       "      <td>2019-08-02</td>\n",
       "      <td>2</td>\n",
       "      <td>0</td>\n",
       "      <td>2</td>\n",
       "    </tr>\n",
       "    <tr>\n",
       "      <td>2</td>\n",
       "      <td>1000</td>\n",
       "      <td>2019-01-01</td>\n",
       "      <td>4</td>\n",
       "      <td>4</td>\n",
       "      <td>0</td>\n",
       "    </tr>\n",
       "    <tr>\n",
       "      <td>3</td>\n",
       "      <td>1000</td>\n",
       "      <td>2019-01-02</td>\n",
       "      <td>2</td>\n",
       "      <td>0</td>\n",
       "      <td>0</td>\n",
       "    </tr>\n",
       "    <tr>\n",
       "      <td>4</td>\n",
       "      <td>1000</td>\n",
       "      <td>2019-01-03</td>\n",
       "      <td>0</td>\n",
       "      <td>3</td>\n",
       "      <td>0</td>\n",
       "    </tr>\n",
       "    <tr>\n",
       "      <td>5</td>\n",
       "      <td>1000</td>\n",
       "      <td>2019-01-04</td>\n",
       "      <td>2</td>\n",
       "      <td>1</td>\n",
       "      <td>0</td>\n",
       "    </tr>\n",
       "    <tr>\n",
       "      <td>6</td>\n",
       "      <td>1000</td>\n",
       "      <td>2019-01-05</td>\n",
       "      <td>5</td>\n",
       "      <td>5</td>\n",
       "      <td>0</td>\n",
       "    </tr>\n",
       "    <tr>\n",
       "      <td>7</td>\n",
       "      <td>1000</td>\n",
       "      <td>2019-01-06</td>\n",
       "      <td>1</td>\n",
       "      <td>2</td>\n",
       "      <td>0</td>\n",
       "    </tr>\n",
       "    <tr>\n",
       "      <td>8</td>\n",
       "      <td>1000</td>\n",
       "      <td>2019-01-07</td>\n",
       "      <td>2</td>\n",
       "      <td>2</td>\n",
       "      <td>0</td>\n",
       "    </tr>\n",
       "    <tr>\n",
       "      <td>9</td>\n",
       "      <td>1000</td>\n",
       "      <td>2019-01-08</td>\n",
       "      <td>2</td>\n",
       "      <td>0</td>\n",
       "      <td>0</td>\n",
       "    </tr>\n",
       "    <tr>\n",
       "      <td>10</td>\n",
       "      <td>1000</td>\n",
       "      <td>2019-01-09</td>\n",
       "      <td>2</td>\n",
       "      <td>1</td>\n",
       "      <td>0</td>\n",
       "    </tr>\n",
       "    <tr>\n",
       "      <td>11</td>\n",
       "      <td>1000</td>\n",
       "      <td>2019-01-10</td>\n",
       "      <td>1</td>\n",
       "      <td>1</td>\n",
       "      <td>0</td>\n",
       "    </tr>\n",
       "    <tr>\n",
       "      <td>12</td>\n",
       "      <td>1000</td>\n",
       "      <td>2019-01-11</td>\n",
       "      <td>1</td>\n",
       "      <td>0</td>\n",
       "      <td>0</td>\n",
       "    </tr>\n",
       "    <tr>\n",
       "      <td>13</td>\n",
       "      <td>1000</td>\n",
       "      <td>2019-01-12</td>\n",
       "      <td>0</td>\n",
       "      <td>2</td>\n",
       "      <td>0</td>\n",
       "    </tr>\n",
       "    <tr>\n",
       "      <td>14</td>\n",
       "      <td>1000</td>\n",
       "      <td>2019-01-13</td>\n",
       "      <td>0</td>\n",
       "      <td>1</td>\n",
       "      <td>0</td>\n",
       "    </tr>\n",
       "    <tr>\n",
       "      <td>15</td>\n",
       "      <td>1000</td>\n",
       "      <td>2019-01-14</td>\n",
       "      <td>0</td>\n",
       "      <td>1</td>\n",
       "      <td>0</td>\n",
       "    </tr>\n",
       "    <tr>\n",
       "      <td>16</td>\n",
       "      <td>1000</td>\n",
       "      <td>2019-01-15</td>\n",
       "      <td>3</td>\n",
       "      <td>6</td>\n",
       "      <td>0</td>\n",
       "    </tr>\n",
       "    <tr>\n",
       "      <td>17</td>\n",
       "      <td>1000</td>\n",
       "      <td>2019-01-16</td>\n",
       "      <td>1</td>\n",
       "      <td>0</td>\n",
       "      <td>0</td>\n",
       "    </tr>\n",
       "    <tr>\n",
       "      <td>18</td>\n",
       "      <td>1000</td>\n",
       "      <td>2019-01-17</td>\n",
       "      <td>0</td>\n",
       "      <td>3</td>\n",
       "      <td>0</td>\n",
       "    </tr>\n",
       "    <tr>\n",
       "      <td>19</td>\n",
       "      <td>1000</td>\n",
       "      <td>2019-01-18</td>\n",
       "      <td>2</td>\n",
       "      <td>0</td>\n",
       "      <td>0</td>\n",
       "    </tr>\n",
       "  </tbody>\n",
       "</table>\n",
       "</div>"
      ],
      "text/plain": [
       "    Station id        Date  fromCNT  toCNT  rebalCNT\n",
       "0          666  2019-07-20        1      0         1\n",
       "1          666  2019-08-02        2      0         2\n",
       "2         1000  2019-01-01        4      4         0\n",
       "3         1000  2019-01-02        2      0         0\n",
       "4         1000  2019-01-03        0      3         0\n",
       "5         1000  2019-01-04        2      1         0\n",
       "6         1000  2019-01-05        5      5         0\n",
       "7         1000  2019-01-06        1      2         0\n",
       "8         1000  2019-01-07        2      2         0\n",
       "9         1000  2019-01-08        2      0         0\n",
       "10        1000  2019-01-09        2      1         0\n",
       "11        1000  2019-01-10        1      1         0\n",
       "12        1000  2019-01-11        1      0         0\n",
       "13        1000  2019-01-12        0      2         0\n",
       "14        1000  2019-01-13        0      1         0\n",
       "15        1000  2019-01-14        0      1         0\n",
       "16        1000  2019-01-15        3      6         0\n",
       "17        1000  2019-01-16        1      0         0\n",
       "18        1000  2019-01-17        0      3         0\n",
       "19        1000  2019-01-18        2      0         0"
      ]
     },
     "execution_count": 250,
     "metadata": {},
     "output_type": "execute_result"
    }
   ],
   "source": [
    "table = []\n",
    "for key, value in CNT_info.items():\n",
    "    temp = (key[0], key[1], value[0], value[1], value[2])\n",
    "    table.append(temp)\n",
    "\n",
    "task_1_1 = pd.DataFrame(table, columns =['Station id', 'Date', 'fromCNT', 'toCNT', 'rebalCNT'])\n",
    "task_1_1.sort_values(by=['Station id', 'Date'], inplace = True)\n",
    "task_1_1.reset_index(inplace = True)\n",
    "task_1_1.drop(['index'], axis=1, inplace = True)\n",
    "task_1_1.head(20)\n",
    "    "
   ]
  },
  {
   "cell_type": "markdown",
   "metadata": {},
   "source": [
    "### Task 1.2"
   ]
  },
  {
   "cell_type": "code",
   "execution_count": 251,
   "metadata": {},
   "outputs": [],
   "source": [
    "CNT_info = {}"
   ]
  },
  {
   "cell_type": "code",
   "execution_count": 252,
   "metadata": {},
   "outputs": [],
   "source": [
    "for series in data.itertuples():\n",
    "    #calculate fromCNT\n",
    "    if str(series[6])!='nan':\n",
    "        stationid = int(series[6])\n",
    "        time = re.findall('^\\d{4}-\\d{2}', str(series[2]))[0]\n",
    "        station_date_pair = (stationid, time)\n",
    "        if station_date_pair not in CNT_info:\n",
    "            CNT_info[station_date_pair] = [0,0,0]\n",
    "        \n",
    "        fromCNT = CNT_info[station_date_pair][0]\n",
    "        CNT_info[station_date_pair][0] = fromCNT + 1\n",
    "    \n",
    "    #calculate toCNT\n",
    "    if str(series[8])!='nan':\n",
    "        stationid = int(series[8])\n",
    "        time = re.findall('^\\d{4}-\\d{2}', str(series[3]))[0]\n",
    "        station_date_pair = (stationid, time)\n",
    "        if station_date_pair not in CNT_info:\n",
    "            CNT_info[station_date_pair] = [0,0,0]\n",
    "        \n",
    "        toCNT = CNT_info[station_date_pair][1]\n",
    "        CNT_info[station_date_pair][1] = toCNT + 1"
   ]
  },
  {
   "cell_type": "code",
   "execution_count": 253,
   "metadata": {},
   "outputs": [],
   "source": [
    "#calculate rebalCNT\n",
    "for i in range(0,len(data)-1):\n",
    "    if data.iloc[i]['Bikeid'] == data.iloc[i+1]['Bikeid']:\n",
    "        if str(data.iloc[i+1]['From station id'])!='nan' and str(data.iloc[i]['To station id'])!='nan':\n",
    "            if data.iloc[i]['To station id'] != data.iloc[i+1]['From station id']:\n",
    "                stationid = int(data.iloc[i+1]['From station id'])\n",
    "                time = re.findall('^\\d{4}-\\d{2}', str(data.iloc[i+1]['Starttime']))[0]\n",
    "                station_date_pair = (stationid, time)\n",
    "                rebalCNT = CNT_info[station_date_pair][2]\n",
    "                CNT_info[station_date_pair][2] = rebalCNT + 1"
   ]
  },
  {
   "cell_type": "code",
   "execution_count": 254,
   "metadata": {},
   "outputs": [
    {
     "data": {
      "text/html": [
       "<div>\n",
       "<style scoped>\n",
       "    .dataframe tbody tr th:only-of-type {\n",
       "        vertical-align: middle;\n",
       "    }\n",
       "\n",
       "    .dataframe tbody tr th {\n",
       "        vertical-align: top;\n",
       "    }\n",
       "\n",
       "    .dataframe thead th {\n",
       "        text-align: right;\n",
       "    }\n",
       "</style>\n",
       "<table border=\"1\" class=\"dataframe\">\n",
       "  <thead>\n",
       "    <tr style=\"text-align: right;\">\n",
       "      <th></th>\n",
       "      <th>Station id</th>\n",
       "      <th>Month</th>\n",
       "      <th>fromCNT</th>\n",
       "      <th>toCNT</th>\n",
       "      <th>rebalCNT</th>\n",
       "    </tr>\n",
       "  </thead>\n",
       "  <tbody>\n",
       "    <tr>\n",
       "      <td>0</td>\n",
       "      <td>666</td>\n",
       "      <td>2019-07</td>\n",
       "      <td>1</td>\n",
       "      <td>0</td>\n",
       "      <td>1</td>\n",
       "    </tr>\n",
       "    <tr>\n",
       "      <td>1</td>\n",
       "      <td>666</td>\n",
       "      <td>2019-08</td>\n",
       "      <td>2</td>\n",
       "      <td>0</td>\n",
       "      <td>2</td>\n",
       "    </tr>\n",
       "    <tr>\n",
       "      <td>2</td>\n",
       "      <td>1000</td>\n",
       "      <td>2019-01</td>\n",
       "      <td>35</td>\n",
       "      <td>43</td>\n",
       "      <td>1</td>\n",
       "    </tr>\n",
       "    <tr>\n",
       "      <td>3</td>\n",
       "      <td>1000</td>\n",
       "      <td>2019-02</td>\n",
       "      <td>51</td>\n",
       "      <td>58</td>\n",
       "      <td>11</td>\n",
       "    </tr>\n",
       "    <tr>\n",
       "      <td>4</td>\n",
       "      <td>1000</td>\n",
       "      <td>2019-03</td>\n",
       "      <td>132</td>\n",
       "      <td>174</td>\n",
       "      <td>11</td>\n",
       "    </tr>\n",
       "    <tr>\n",
       "      <td>5</td>\n",
       "      <td>1000</td>\n",
       "      <td>2019-04</td>\n",
       "      <td>392</td>\n",
       "      <td>426</td>\n",
       "      <td>7</td>\n",
       "    </tr>\n",
       "    <tr>\n",
       "      <td>6</td>\n",
       "      <td>1000</td>\n",
       "      <td>2019-05</td>\n",
       "      <td>601</td>\n",
       "      <td>659</td>\n",
       "      <td>29</td>\n",
       "    </tr>\n",
       "    <tr>\n",
       "      <td>7</td>\n",
       "      <td>1000</td>\n",
       "      <td>2019-06</td>\n",
       "      <td>666</td>\n",
       "      <td>722</td>\n",
       "      <td>11</td>\n",
       "    </tr>\n",
       "    <tr>\n",
       "      <td>8</td>\n",
       "      <td>1000</td>\n",
       "      <td>2019-07</td>\n",
       "      <td>672</td>\n",
       "      <td>692</td>\n",
       "      <td>27</td>\n",
       "    </tr>\n",
       "    <tr>\n",
       "      <td>9</td>\n",
       "      <td>1000</td>\n",
       "      <td>2019-08</td>\n",
       "      <td>586</td>\n",
       "      <td>640</td>\n",
       "      <td>15</td>\n",
       "    </tr>\n",
       "    <tr>\n",
       "      <td>10</td>\n",
       "      <td>1000</td>\n",
       "      <td>2019-09</td>\n",
       "      <td>522</td>\n",
       "      <td>563</td>\n",
       "      <td>11</td>\n",
       "    </tr>\n",
       "    <tr>\n",
       "      <td>11</td>\n",
       "      <td>1000</td>\n",
       "      <td>2019-10</td>\n",
       "      <td>0</td>\n",
       "      <td>2</td>\n",
       "      <td>0</td>\n",
       "    </tr>\n",
       "    <tr>\n",
       "      <td>12</td>\n",
       "      <td>1001</td>\n",
       "      <td>2019-01</td>\n",
       "      <td>59</td>\n",
       "      <td>82</td>\n",
       "      <td>1</td>\n",
       "    </tr>\n",
       "    <tr>\n",
       "      <td>13</td>\n",
       "      <td>1001</td>\n",
       "      <td>2019-02</td>\n",
       "      <td>61</td>\n",
       "      <td>80</td>\n",
       "      <td>4</td>\n",
       "    </tr>\n",
       "    <tr>\n",
       "      <td>14</td>\n",
       "      <td>1001</td>\n",
       "      <td>2019-03</td>\n",
       "      <td>117</td>\n",
       "      <td>134</td>\n",
       "      <td>14</td>\n",
       "    </tr>\n",
       "    <tr>\n",
       "      <td>15</td>\n",
       "      <td>1001</td>\n",
       "      <td>2019-04</td>\n",
       "      <td>276</td>\n",
       "      <td>330</td>\n",
       "      <td>9</td>\n",
       "    </tr>\n",
       "    <tr>\n",
       "      <td>16</td>\n",
       "      <td>1001</td>\n",
       "      <td>2019-05</td>\n",
       "      <td>429</td>\n",
       "      <td>502</td>\n",
       "      <td>9</td>\n",
       "    </tr>\n",
       "    <tr>\n",
       "      <td>17</td>\n",
       "      <td>1001</td>\n",
       "      <td>2019-06</td>\n",
       "      <td>498</td>\n",
       "      <td>522</td>\n",
       "      <td>13</td>\n",
       "    </tr>\n",
       "    <tr>\n",
       "      <td>18</td>\n",
       "      <td>1001</td>\n",
       "      <td>2019-07</td>\n",
       "      <td>552</td>\n",
       "      <td>602</td>\n",
       "      <td>68</td>\n",
       "    </tr>\n",
       "    <tr>\n",
       "      <td>19</td>\n",
       "      <td>1001</td>\n",
       "      <td>2019-08</td>\n",
       "      <td>470</td>\n",
       "      <td>539</td>\n",
       "      <td>6</td>\n",
       "    </tr>\n",
       "  </tbody>\n",
       "</table>\n",
       "</div>"
      ],
      "text/plain": [
       "    Station id    Month  fromCNT  toCNT  rebalCNT\n",
       "0          666  2019-07        1      0         1\n",
       "1          666  2019-08        2      0         2\n",
       "2         1000  2019-01       35     43         1\n",
       "3         1000  2019-02       51     58        11\n",
       "4         1000  2019-03      132    174        11\n",
       "5         1000  2019-04      392    426         7\n",
       "6         1000  2019-05      601    659        29\n",
       "7         1000  2019-06      666    722        11\n",
       "8         1000  2019-07      672    692        27\n",
       "9         1000  2019-08      586    640        15\n",
       "10        1000  2019-09      522    563        11\n",
       "11        1000  2019-10        0      2         0\n",
       "12        1001  2019-01       59     82         1\n",
       "13        1001  2019-02       61     80         4\n",
       "14        1001  2019-03      117    134        14\n",
       "15        1001  2019-04      276    330         9\n",
       "16        1001  2019-05      429    502         9\n",
       "17        1001  2019-06      498    522        13\n",
       "18        1001  2019-07      552    602        68\n",
       "19        1001  2019-08      470    539         6"
      ]
     },
     "execution_count": 254,
     "metadata": {},
     "output_type": "execute_result"
    }
   ],
   "source": [
    "table = []\n",
    "for key, value in CNT_info.items():\n",
    "    temp = (key[0], key[1], value[0], value[1], value[2])\n",
    "    table.append(temp)\n",
    "\n",
    "task_1_2 = pd.DataFrame(table, columns =['Station id', 'Month', 'fromCNT', 'toCNT', 'rebalCNT'])\n",
    "task_1_2.sort_values(by=['Station id', 'Month'], inplace = True)\n",
    "task_1_2.reset_index(inplace = True)\n",
    "task_1_2.drop(['index'], axis=1, inplace = True)\n",
    "task_1_2.head(20)"
   ]
  },
  {
   "cell_type": "code",
   "execution_count": null,
   "metadata": {},
   "outputs": [],
   "source": []
  },
  {
   "cell_type": "markdown",
   "metadata": {},
   "source": [
    "---\n",
    "### Task 2"
   ]
  },
  {
   "cell_type": "markdown",
   "metadata": {},
   "source": [
    "In this task you will need to create graphs to show the popularity of the different rental stations, given filter conditions."
   ]
  },
  {
   "cell_type": "code",
   "execution_count": 255,
   "metadata": {},
   "outputs": [
    {
     "name": "stdout",
     "output_type": "stream",
     "text": [
      "Enter the month in numbers (default is 4): \n",
      "input invalid, using default value 4\n",
      "Enter the station id (default is 1046): \n",
      "input invalid, using default value 1046\n"
     ]
    }
   ],
   "source": [
    "# FILTER VARIABLES -- feel free to edit the values, but the names of the variables must remain \n",
    "#                     as they are and should be used by your code accordingly from this point on\n",
    "\n",
    "filter_month = 4\n",
    "filter_stationID = 1046\n",
    "\n",
    "try:\n",
    "    filter_month = int(input(\"Enter the month in numbers (default is 4): \"))\n",
    "except:\n",
    "    print(\"input invalid, using default value 4\")\n",
    "    filter_month = 4\n",
    "if filter_month < 1 or filter_month > 12:\n",
    "    print(\"input invalid, using default value 4\")\n",
    "    filter_month = 4\n",
    "    \n",
    "\n",
    "try:\n",
    "    filter_stationID = int(input(\"Enter the station id (default is 1046): \"))\n",
    "except:\n",
    "    print(\"input invalid, using default value 1046\")\n",
    "    filter_stationID = 1046\n",
    "if filter_stationID < 0:\n",
    "    print(\"input invalid, using default value 1046\")\n",
    "    filter_stationID = 1046\n"
   ]
  },
  {
   "cell_type": "markdown",
   "metadata": {},
   "source": [
    "### Task 2.1"
   ]
  },
  {
   "cell_type": "code",
   "execution_count": 256,
   "metadata": {},
   "outputs": [
    {
     "data": {
      "image/png": "[encoded data removed]",
      "text/plain": [
       "<Figure size 720x288 with 1 Axes>"
      ]
     },
     "metadata": {
      "needs_background": "light"
     },
     "output_type": "display_data"
    }
   ],
   "source": [
    "task_2_1 = task_1_2.sort_values(by=['fromCNT'], ascending=False)\n",
    "table = []\n",
    "counter = 0\n",
    "for series in task_2_1.itertuples():\n",
    "    month = int(series[2][-2:])\n",
    "    if month == filter_month and counter < 25:\n",
    "        tup = (series[1], series[3])\n",
    "        table.append(tup)\n",
    "        counter = counter + 1\n",
    "        \n",
    "task_2_1 = pd.DataFrame(table, columns =['Station id', 'fromCNT'])\n",
    "\n",
    "task_2_1.plot.bar(x = 'Station id', y = 'fromCNT',figsize=(10,4))\n",
    "plt.title('25 Most Popular Stations. Month = ' + str(filter_month) + '.')\n",
    "plt.show()"
   ]
  },
  {
   "cell_type": "markdown",
   "metadata": {},
   "source": [
    "### Task 2.2"
   ]
  },
  {
   "cell_type": "code",
   "execution_count": 257,
   "metadata": {},
   "outputs": [
    {
     "data": {
      "image/png": "[encoded data removed]",
      "text/plain": [
       "<Figure size 720x288 with 1 Axes>"
      ]
     },
     "metadata": {
      "needs_background": "light"
     },
     "output_type": "display_data"
    }
   ],
   "source": [
    "task_2_2 = task_1_1.sort_values(by=['Date'], ascending=True)\n",
    "table = []\n",
    "for series in task_2_2.itertuples():\n",
    "    month = int(series[2][5:7])\n",
    "    day = int(series[2][8:10])\n",
    "    stationid = series[1]\n",
    "    if month == filter_month and stationid == filter_stationID:\n",
    "        tup = (series[2], series[3])\n",
    "        table.append(tup)\n",
    "        \n",
    "        \n",
    "task_2_2 = pd.DataFrame(table, columns =['Date', 'fromCNT'])\n",
    "\n",
    "task_2_2.plot.bar(x = 'Date', y = 'fromCNT',figsize=(10,4))\n",
    "plt.title('Distribution of Bike Rental. Month = ' + str(filter_month) + ', Station ID = ' + str(filter_stationID))\n",
    "plt.show()"
   ]
  },
  {
   "cell_type": "markdown",
   "metadata": {},
   "source": [
    "### Task 2.3"
   ]
  },
  {
   "cell_type": "code",
   "execution_count": 258,
   "metadata": {},
   "outputs": [],
   "source": [
    "bikeRental = {}\n",
    "for series in data.itertuples():\n",
    "    time = re.findall('^\\d{4}-\\d{2}-\\d{2}', str(series[2]))[0]\n",
    "    month = int(time[5:7])\n",
    "    if month == filter_month:\n",
    "        if series[4] not in bikeRental:\n",
    "            bikeRental[series[4]] = 0\n",
    "        bikeRental[series[4]] = bikeRental[series[4]] + 1\n"
   ]
  },
  {
   "cell_type": "code",
   "execution_count": 259,
   "metadata": {},
   "outputs": [
    {
     "data": {
      "image/png": "[encoded data removed]",
      "text/plain": [
       "<Figure size 720x288 with 1 Axes>"
      ]
     },
     "metadata": {
      "needs_background": "light"
     },
     "output_type": "display_data"
    }
   ],
   "source": [
    "table = []\n",
    "for bikeid, times in bikeRental.items():\n",
    "    table.append((bikeid,times))\n",
    "    \n",
    "task_2_3 = pd.DataFrame(table, columns =['Bike id', 'Rental times'])\n",
    "task_2_3.sort_values(by='Rental times', ascending=False, inplace = True)\n",
    "task_2_3.iloc[:25].plot.bar(x = 'Bike id', y = 'Rental times',figsize=(10,4))\n",
    "\n",
    "plt.title('25 Most Popular Bikes. Month = ' + str(filter_month) + '.')\n",
    "plt.show()"
   ]
  },
  {
   "cell_type": "markdown",
   "metadata": {},
   "source": [
    "---\n",
    "### Task 3"
   ]
  },
  {
   "cell_type": "markdown",
   "metadata": {},
   "source": [
    "In this task you will create graphs to show the rebalancing issue."
   ]
  },
  {
   "cell_type": "markdown",
   "metadata": {
    "scrolled": false
   },
   "source": [
    "### Task 3.1"
   ]
  },
  {
   "cell_type": "code",
   "execution_count": 260,
   "metadata": {},
   "outputs": [
    {
     "data": {
      "image/png": "[encoded data removed]",
      "text/plain": [
       "<Figure size 720x288 with 1 Axes>"
      ]
     },
     "metadata": {
      "needs_background": "light"
     },
     "output_type": "display_data"
    }
   ],
   "source": [
    "task_3_1 = task_1_2.sort_values(by=['rebalCNT'], ascending=False)\n",
    "table = []\n",
    "counter = 0\n",
    "for series in task_3_1.itertuples():\n",
    "    month = int(series[2][-2:])\n",
    "    if month == filter_month and counter < 25:\n",
    "        tup = (series[1], series[5])\n",
    "        table.append(tup)\n",
    "        counter = counter + 1\n",
    "        \n",
    "task_2_1 = pd.DataFrame(table, columns =['Station id', 'rebalCNT'])\n",
    "\n",
    "task_2_1.plot.bar(x = 'Station id', y = 'rebalCNT',figsize=(10,4))\n",
    "plt.title('25 Most Popular Stations. Month = ' + str(filter_month) + '.')\n",
    "plt.show()"
   ]
  },
  {
   "cell_type": "markdown",
   "metadata": {},
   "source": [
    "### Task 3.2"
   ]
  },
  {
   "cell_type": "code",
   "execution_count": 261,
   "metadata": {},
   "outputs": [
    {
     "data": {
      "image/png": "[encoded data removed]",
      "text/plain": [
       "<Figure size 720x288 with 1 Axes>"
      ]
     },
     "metadata": {
      "needs_background": "light"
     },
     "output_type": "display_data"
    }
   ],
   "source": [
    "task_3_2 = task_1_1.sort_values(by=['Date'], ascending=True)\n",
    "table = []\n",
    "for series in task_3_2.itertuples():\n",
    "    month = int(series[2][5:7])\n",
    "    day = int(series[2][8:10])\n",
    "    stationid = series[1]\n",
    "    if month == filter_month and stationid == filter_stationID:\n",
    "        tup = (series[2], series[5])\n",
    "        table.append(tup)\n",
    "        \n",
    "        \n",
    "task_2_2 = pd.DataFrame(table, columns =['Date', 'rebalCNT'])\n",
    "\n",
    "task_2_2.plot.bar(x = 'Date', y = 'rebalCNT',figsize=(10,4))\n",
    "plt.title('Distribution of Bike Rebalance. Month = ' + str(filter_month) + ', Station ID = ' + str(filter_stationID))\n",
    "plt.show()"
   ]
  },
  {
   "cell_type": "markdown",
   "metadata": {},
   "source": [
    "---\n",
    "### Task 4"
   ]
  },
  {
   "cell_type": "markdown",
   "metadata": {},
   "source": [
    "In this task you will cluster the data to group similar stations together, using a variety of clustering functions and visualize the results of the clustering."
   ]
  },
  {
   "cell_type": "markdown",
   "metadata": {},
   "source": [
    "### Task 4.1"
   ]
  },
  {
   "cell_type": "code",
   "execution_count": 262,
   "metadata": {},
   "outputs": [],
   "source": [
    "task_4 = task_1_2\n",
    "dictionary = {}\n",
    "table = []\n",
    "for series in task_4.itertuples():\n",
    "    month = int(series[2][-2:])\n",
    "    if month == 7 or month == 8 or month == 9:\n",
    "        station_id = series[1]\n",
    "        if station_id not in dictionary:\n",
    "            dictionary[station_id] = [0,0,0,0,0,0]\n",
    "        \n",
    "        if month == 7:\n",
    "            dictionary[station_id][0] = series[3]\n",
    "            dictionary[station_id][3] = series[5]\n",
    "        if month == 8:\n",
    "            dictionary[station_id][1] = series[3]\n",
    "            dictionary[station_id][4] = series[5]\n",
    "        if month == 9:\n",
    "            dictionary[station_id][2] = series[3]\n",
    "            dictionary[station_id][5] = series[5]\n",
    "            \n",
    "\n",
    "for key, value in dictionary.items():\n",
    "    tup = (key, value[0], value[1], value[2], value[3], value[4], value[5])\n",
    "    table.append(tup)\n",
    "        \n",
    "task_4 = pd.DataFrame(table, columns =['Station id', 'fromCNT_Jul', 'fromCNT_Aug', 'fromCNT_Sep',\n",
    "                                         'rebalCNT_Jul', 'rebalCNT_Aug', 'rebalCNT_Sep'])"
   ]
  },
  {
   "cell_type": "code",
   "execution_count": 263,
   "metadata": {},
   "outputs": [],
   "source": [
    "#generate three columns of data containing cluster id under three k_means situation\n",
    "temp = task_4[['fromCNT_Jul', 'fromCNT_Aug','fromCNT_Sep', 'rebalCNT_Jul','rebalCNT_Aug', 'rebalCNT_Sep']]\n",
    "\n",
    "k_means = cluster.KMeans(n_clusters=5, init='k-means++', random_state=5000)\n",
    "k_means.fit(temp)\n",
    "task_4['clusterID_kMeans_5'] = k_means.labels_\n",
    "\n",
    "\n",
    "k_means = cluster.KMeans(n_clusters=10, init='k-means++', random_state=5000)\n",
    "k_means.fit(temp)\n",
    "task_4['clusterID_kMeans_10'] = k_means.labels_\n",
    "\n",
    "\n",
    "k_means = cluster.KMeans(n_clusters=15, init='k-means++', random_state=5000)\n",
    "k_means.fit(temp)\n",
    "task_4['clusterID_kMeans_15'] = k_means.labels_"
   ]
  },
  {
   "cell_type": "code",
   "execution_count": 264,
   "metadata": {},
   "outputs": [],
   "source": [
    "#generate three columns of data containing cluster id under three DBSCAN situation\n",
    "dbscan = cluster.DBSCAN(eps=50, min_samples=3)\n",
    "dbscan.fit(temp)\n",
    "task_4['clusterID_dbscan_50_3'] = dbscan.labels_\n",
    "\n",
    "dbscan = cluster.DBSCAN(eps=30, min_samples=5)\n",
    "dbscan.fit(temp)\n",
    "task_4['clusterID_dbscan_30_5'] = dbscan.labels_\n",
    "\n",
    "dbscan = cluster.DBSCAN(eps=60, min_samples=2)\n",
    "dbscan.fit(temp)\n",
    "task_4['clusterID_dbscan_60_2'] = dbscan.labels_\n",
    "\n"
   ]
  },
  {
   "cell_type": "markdown",
   "metadata": {},
   "source": [
    "### Task 4.2"
   ]
  },
  {
   "cell_type": "code",
   "execution_count": 265,
   "metadata": {},
   "outputs": [
    {
     "data": {
      "image/png": "[encoded data removed]",
      "text/plain": [
       "<Figure size 720x288 with 1 Axes>"
      ]
     },
     "metadata": {
      "needs_background": "light"
     },
     "output_type": "display_data"
    }
   ],
   "source": [
    "#k-means, k = 5\n",
    "temp = task_4.groupby('clusterID_kMeans_5').count()\n",
    "temp.sort_values(by='Station id', ascending = False, inplace = True)\n",
    "ax = temp.plot.bar(y = 'Station id',figsize=(10,4))\n",
    "plt.legend(['number of station'])\n",
    "plt.title('Distribution of station per cluster. Method: k-means. k = 5')\n",
    "plt.xlabel('cluster id')\n",
    "plt.show()"
   ]
  },
  {
   "cell_type": "code",
   "execution_count": 266,
   "metadata": {},
   "outputs": [
    {
     "data": {
      "image/png": "[encoded data removed]",
      "text/plain": [
       "<Figure size 720x288 with 1 Axes>"
      ]
     },
     "metadata": {
      "needs_background": "light"
     },
     "output_type": "display_data"
    }
   ],
   "source": [
    "#k-means, k = 10\n",
    "temp = task_4.groupby('clusterID_kMeans_10').count()\n",
    "temp.sort_values(by='Station id', ascending = False, inplace = True)\n",
    "ax = temp.plot.bar(y = 'Station id',figsize=(10,4))\n",
    "plt.legend(['number of station'])\n",
    "plt.title('Distribution of station per cluster. Method: k-means. k = 10')\n",
    "plt.xlabel('cluster id')\n",
    "plt.show()"
   ]
  },
  {
   "cell_type": "code",
   "execution_count": 267,
   "metadata": {},
   "outputs": [
    {
     "data": {
      "image/png": "[encoded data removed]",
      "text/plain": [
       "<Figure size 720x288 with 1 Axes>"
      ]
     },
     "metadata": {
      "needs_background": "light"
     },
     "output_type": "display_data"
    }
   ],
   "source": [
    "#k-means, k = 15\n",
    "temp = task_4.groupby('clusterID_kMeans_15').count()\n",
    "temp.sort_values(by='Station id', ascending = False, inplace = True)\n",
    "ax = temp.plot.bar(y = 'Station id',figsize=(10,4))\n",
    "plt.legend(['number of station'])\n",
    "plt.title('Distribution of station per cluster. Method: k-means. k = 15')\n",
    "plt.xlabel('cluster id')\n",
    "plt.show()"
   ]
  },
  {
   "cell_type": "code",
   "execution_count": 268,
   "metadata": {},
   "outputs": [
    {
     "data": {
      "image/png": "[encoded data removed]",
      "text/plain": [
       "<Figure size 720x288 with 1 Axes>"
      ]
     },
     "metadata": {
      "needs_background": "light"
     },
     "output_type": "display_data"
    }
   ],
   "source": [
    "#DBSCAN, eps = 50, min_samples = 3\n",
    "\n",
    "#\n",
    "#I did not show the stations which belongs to no cluster (clusterID == -1)\n",
    "#\n",
    "\n",
    "temp = task_4.groupby('clusterID_dbscan_50_3').count()\n",
    "temp.sort_values(by='Station id', ascending = False, inplace = True)\n",
    "\n",
    "#drop the row whose cluster id == -1\n",
    "temp.drop([-1], inplace = True)\n",
    "\n",
    "temp.plot.bar(y = 'Station id',figsize=(10,4))\n",
    "plt.legend(['number of station'])\n",
    "plt.title('Distribution of station per cluster. Method: DBSCAN. eps = 50, min_samples = 3')\n",
    "plt.xlabel('cluster id')\n",
    "plt.show()"
   ]
  },
  {
   "cell_type": "code",
   "execution_count": 269,
   "metadata": {},
   "outputs": [
    {
     "data": {
      "image/png": "[encoded data removed]",
      "text/plain": [
       "<Figure size 720x288 with 1 Axes>"
      ]
     },
     "metadata": {
      "needs_background": "light"
     },
     "output_type": "display_data"
    }
   ],
   "source": [
    "#DBSCAN, eps = 30, min_samples = 5\n",
    "\n",
    "#\n",
    "#I did not show the stations which belongs to no cluster (clusterID == -1)\n",
    "#\n",
    "\n",
    "temp = task_4.groupby('clusterID_dbscan_30_5').count()\n",
    "temp.sort_values(by='Station id', ascending = False, inplace = True)\n",
    "\n",
    "#drop the row whose cluster id == -1\n",
    "temp.drop([-1], inplace = True)\n",
    "\n",
    "temp.plot.bar(y = 'Station id',figsize=(10,4))\n",
    "plt.legend(['number of station'])\n",
    "plt.title('Distribution of station per cluster. Method: DBSCAN. eps = 30, min_samples = 5')\n",
    "plt.xlabel('cluster id')\n",
    "plt.show()"
   ]
  },
  {
   "cell_type": "code",
   "execution_count": 270,
   "metadata": {},
   "outputs": [
    {
     "data": {
      "image/png": "[encoded data removed]",
      "text/plain": [
       "<Figure size 720x288 with 1 Axes>"
      ]
     },
     "metadata": {
      "needs_background": "light"
     },
     "output_type": "display_data"
    }
   ],
   "source": [
    "#DBSCAN, eps = 60, min_samples = 2\n",
    "\n",
    "#\n",
    "#I did not show the stations which belongs to no cluster (clusterID == -1)\n",
    "#\n",
    "\n",
    "temp = task_4.groupby('clusterID_dbscan_60_2').count()\n",
    "temp.sort_values(by='Station id', ascending = False, inplace = True)\n",
    "\n",
    "#drop the row whose cluster id == -1\n",
    "temp.drop(index = [-1], inplace = True)\n",
    "\n",
    "temp.plot.bar(y = 'Station id',figsize=(10,4))\n",
    "plt.legend(['number of station'])\n",
    "plt.title('Distribution of station per cluster. Method: DBSCAN. eps = 60, min_samples = 2')\n",
    "plt.xlabel('cluster id')\n",
    "plt.show()"
   ]
  },
  {
   "cell_type": "markdown",
   "metadata": {},
   "source": [
    "### Task 4.3"
   ]
  },
  {
   "cell_type": "markdown",
   "metadata": {},
   "source": [
    "1. K-Means: Basically, I used elbow method to determine the optimal k for the k-means clustering. The idea is to calculate 'the sum of squared distances of samples to the nearest cluster centre'. Ideally, as the k increases, the sum of squared distances will tend to zero. If we plot the relationship between k and sum of squared distances, the shape of curve will look like an arm, and the value of k on the elbow of the arm will be the optimal k, because k is relatively small (which divides the data into larger chunks) and sum of squared distance is reasonably small as well (which means the subject in the group is closer to the centers of clusters). I implement an algorithm to find out the optimal k in the range from 2 to 20 (see below). From the graph, we can see that k=4 is the elbow of the arm, so the optimal value of k is 4. In task 4.2, i pick 5, 10, and 15 as the value of k. Thus, among my choices of k, the optimal value should be 5 since it is closest to 4.\n",
    "\n",
    "2. Between k-means and DBSCAN, I prefer the k-means. From the graphs of Task 4.2, we can see that the DBSCAN usually produces a large cluster along with a few tiny clusters, which may be unuseful for data analysis, because those tiny clusters are not representative. K-means, on the other hand, produces clusters with similar volume."
   ]
  },
  {
   "cell_type": "code",
   "execution_count": 271,
   "metadata": {},
   "outputs": [
    {
     "data": {
      "image/png": "[encoded data removed]",
      "text/plain": [
       "<Figure size 432x288 with 1 Axes>"
      ]
     },
     "metadata": {
      "needs_background": "light"
     },
     "output_type": "display_data"
    }
   ],
   "source": [
    "##########\n",
    "#Elbow method to find optimal k\n",
    "##########\n",
    "\n",
    "\n",
    "temp = task_4[['fromCNT_Jul', 'fromCNT_Aug','fromCNT_Sep', 'rebalCNT_Jul','rebalCNT_Aug', 'rebalCNT_Sep']]\n",
    "Sum_of_squared_distances = []\n",
    "\n",
    "for i in range (2,20):\n",
    "    k_means = cluster.KMeans(n_clusters=i, init='k-means++', random_state=5000)\n",
    "    k_means.fit(temp)\n",
    "    Sum_of_squared_distances.append(k_means.inertia_)\n",
    "\n",
    "plt.plot((range (2,20)), Sum_of_squared_distances, 'bx-')\n",
    "plt.xlabel('k')\n",
    "plt.ylabel('Sum_of_squared_distances')\n",
    "plt.title('Elbow Method For Optimal k')\n",
    "plt.show()"
   ]
  },
  {
   "cell_type": "code",
   "execution_count": null,
   "metadata": {},
   "outputs": [],
   "source": []
  }
 ],
 "metadata": {
  "anaconda-cloud": {},
  "kernelspec": {
   "display_name": "Python 3",
   "language": "python",
   "name": "python3"
  },
  "language_info": {
   "codemirror_mode": {
    "name": "ipython",
    "version": 3
   },
   "file_extension": ".py",
   "mimetype": "text/x-python",
   "name": "python",
   "nbconvert_exporter": "python",
   "pygments_lexer": "ipython3",
   "version": "3.7.4"
  }
 },
 "nbformat": 4,
 "nbformat_minor": 2
}
